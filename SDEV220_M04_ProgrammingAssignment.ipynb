{
 "cells": [
  {
   "cell_type": "code",
   "execution_count": 3,
   "metadata": {},
   "outputs": [
    {
     "name": "stdout",
     "output_type": "stream",
     "text": [
      "Open 9-5 daily\n"
     ]
    }
   ],
   "source": [
    "import zoo\n",
    "\n",
    "zoo.hours()"
   ]
  },
  {
   "cell_type": "markdown",
   "metadata": {},
   "source": [
    "11.1"
   ]
  },
  {
   "cell_type": "code",
   "execution_count": 4,
   "metadata": {},
   "outputs": [
    {
     "name": "stdout",
     "output_type": "stream",
     "text": [
      "Open 9-5 daily\n"
     ]
    }
   ],
   "source": [
    "import zoo as menagerie\n",
    "\n",
    "menagerie.hours()"
   ]
  },
  {
   "cell_type": "markdown",
   "metadata": {},
   "source": [
    "11.2"
   ]
  },
  {
   "cell_type": "code",
   "execution_count": 3,
   "metadata": {},
   "outputs": [],
   "source": [
    "import csv\n",
    "books = [\n",
    "    {'title': 'The Weirdstone of Brisingamen', 'author': 'Alan Garner', 'year': '1960'},\n",
    "    {'title': 'Perdido Street Station', 'author': 'China Miéville', 'year': '2000'},\n",
    "    {'title': 'Thud!', 'author': 'Terry Pratchett', 'year': '2005'},\n",
    "    {'title': 'The Spellman Files', 'author': 'Lisa Lutz', 'year': '2007'},\n",
    "    {'title': 'Small Gods', 'author': 'Terry Pratchett', 'year': '1992'},\n",
    "]\n",
    "\n",
    "with open('books.csv', 'wt') as fout:\n",
    "    cout = csv.DictWriter(fout, ['title', 'author', 'year'])\n",
    "    cout.writeheader()\n",
    "    cout.writerows(books)"
   ]
  },
  {
   "cell_type": "markdown",
   "metadata": {},
   "source": [
    "16.3\n",
    "To prepare for 16.8"
   ]
  },
  {
   "cell_type": "code",
   "execution_count": 4,
   "metadata": {},
   "outputs": [
    {
     "data": {
      "text/plain": [
       "<sqlite3.Cursor at 0x2a46e41fd40>"
      ]
     },
     "execution_count": 4,
     "metadata": {},
     "output_type": "execute_result"
    }
   ],
   "source": [
    "import sqlite3\n",
    "conn = sqlite3.connect('books.db')\n",
    "curs = conn.cursor()\n",
    "curs.execute('''CREATE TABLE books\n",
    "    (title VARCHAR(40) PRIMARY KEY,\n",
    "    author VARCHAR(20),\n",
    "    year INT)''')"
   ]
  },
  {
   "cell_type": "markdown",
   "metadata": {},
   "source": [
    "16.4\n",
    "To prepare for 16.8"
   ]
  },
  {
   "cell_type": "code",
   "execution_count": null,
   "metadata": {},
   "outputs": [],
   "source": [
    "with open('books.db', 'r') as books_table:\n",
    "    dr = csv.DictReader(books_table, delimiter=',')\n",
    "    to_db = [(i['title'], i['author'], i['year']) for i in dr]\n",
    "\n",
    "curs.executemany(\"INSERT INTO books VALUES (?, ?, ?);\", to_db)\n",
    "conn.commit()"
   ]
  },
  {
   "cell_type": "markdown",
   "metadata": {},
   "source": [
    "16.5\n",
    "To prepare for 16.8"
   ]
  },
  {
   "cell_type": "code",
   "execution_count": null,
   "metadata": {},
   "outputs": [],
   "source": [
    "from sqlalchemy import create_engine, MetaData, Table, select\n",
    "\n",
    "# Create an SQLite database connection using SQLAlchemy\n",
    "db_engine = create_engine('sqlite:///books.db')\n",
    "\n",
    "# Create a metadata object\n",
    "metadata = MetaData()\n",
    "\n",
    "# Define the 'books' table\n",
    "books_table = Table('books', metadata, autoload=True, autoload_with=db_engine)\n",
    "\n",
    "# Create a SELECT query to retrieve the 'title' column in alphabetical order\n",
    "select_query = select([books_table.c.title]).order_by(books_table.c.title)\n",
    "\n",
    "# Execute the query and fetch the results\n",
    "connection = db_engine.connect()\n",
    "result = connection.execute(select_query)\n",
    "\n",
    "# Print the 'title' column values\n",
    "for row in result:\n",
    "    print(row[0])\n",
    "\n",
    "# Close the database connection\n",
    "connection.close()\n"
   ]
  },
  {
   "cell_type": "markdown",
   "metadata": {},
   "source": [
    "16.8"
   ]
  }
 ],
 "metadata": {
  "kernelspec": {
   "display_name": "Python 3",
   "language": "python",
   "name": "python3"
  },
  "language_info": {
   "codemirror_mode": {
    "name": "ipython",
    "version": 3
   },
   "file_extension": ".py",
   "mimetype": "text/x-python",
   "name": "python",
   "nbconvert_exporter": "python",
   "pygments_lexer": "ipython3",
   "version": "3.10.0"
  },
  "orig_nbformat": 4
 },
 "nbformat": 4,
 "nbformat_minor": 2
}
